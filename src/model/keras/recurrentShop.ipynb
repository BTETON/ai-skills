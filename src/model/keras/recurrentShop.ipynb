{
 "cells": [
  {
   "cell_type": "code",
   "execution_count": 40,
   "metadata": {},
   "outputs": [],
   "source": [
    "from keras.models import Model\n",
    "from keras.layers import *\n",
    "from recurrentshop import RNNCell\n",
    "from keras.utils.vis_utils import plot_model\n"
   ]
  },
  {
   "cell_type": "code",
   "execution_count": 41,
   "metadata": {},
   "outputs": [
    {
     "name": "stdout",
     "output_type": "stream",
     "text": [
      "_________________________________________________________________\n",
      "Layer (type)                 Output Shape              Param #   \n",
      "=================================================================\n",
      "dense_1 (Dense)              (None, 2)                 4         \n",
      "_________________________________________________________________\n",
      "dense_2 (Dense)              (None, 1)                 3         \n",
      "=================================================================\n",
      "Total params: 7\n",
      "Trainable params: 7\n",
      "Non-trainable params: 0\n",
      "_________________________________________________________________\n",
      "None\n"
     ]
    }
   ],
   "source": [
    "from keras.models import Sequential\n",
    "from keras.layers import Dense\n",
    "model = Sequential()\n",
    "model.add(Dense(2, input_dim=1, activation='relu'))\n",
    "model.add(Dense(1, activation='sigmoid'))\n",
    "print(model.summary())\n",
    "    "
   ]
  },
  {
   "cell_type": "code",
   "execution_count": 51,
   "metadata": {},
   "outputs": [],
   "source": [
    "import numpy as np\n",
    "la = np.linalg\n",
    "words = ['I', 'like', 'enjoy', 'deep', 'learning', 'NLP', 'flying', '.']\n",
    "\n",
    "X = np.array([[0, 2, 1, 0, 0, 0, 0 ,0],\n",
    "              [2, 0, 0, 1, 0, 1, 0, 0],\n",
    "              [1, 0, 0, 0, 0, 0, 1, 0],\n",
    "              [0, 1, 0, 0, 1, 0, 0, 0],\n",
    "              [0, 0, 0, 1, 0, 0, 0, 1],\n",
    "              [0, 1, 0, 0, 0, 0, 0, 1],\n",
    "              [0, 0, 1, 0, 0, 0, 0, 1],\n",
    "              [0, 0, 0, 0, 1, 1, 1, 0]])\n",
    "U, s, Vh = la.svd(X, full_matrices=False)"
   ]
  },
  {
   "cell_type": "code",
   "execution_count": 52,
   "metadata": {},
   "outputs": [
    {
     "data": {
      "text/plain": [
       "array([[-0.5, -0.6,  0.1,  0.4, -0.2, -0.2, -0.4, -0.1],\n",
       "       [-0.6,  0.6, -0.2,  0.3,  0.2, -0.2,  0.1,  0.1],\n",
       "       [-0.3,  0.3,  0.2, -0. , -0.6,  0.6, -0. , -0.3],\n",
       "       [-0.3, -0.2,  0.4, -0.1,  0.4,  0.1,  0.5, -0.5],\n",
       "       [-0.2,  0. , -0.5, -0.4,  0.3,  0.2, -0.5, -0.4],\n",
       "       [-0.3, -0.3, -0.2, -0.2,  0.1,  0.5,  0.2,  0.7],\n",
       "       [-0.2, -0.2, -0.4, -0.4, -0.5, -0.4,  0.4, -0.1],\n",
       "       [-0.2,  0.2,  0.6, -0.6, -0. , -0.2, -0.3,  0.2]])"
      ]
     },
     "execution_count": 52,
     "metadata": {},
     "output_type": "execute_result"
    }
   ],
   "source": [
    "np.round(U, 1)"
   ]
  },
  {
   "cell_type": "code",
   "execution_count": 53,
   "metadata": {},
   "outputs": [
    {
     "data": {
      "text/plain": [
       "array([[-0.52, -0.59, -0.26, -0.29, -0.19, -0.31, -0.18, -0.25],\n",
       "       [ 0.57, -0.63, -0.27,  0.25, -0.03,  0.29,  0.16, -0.16],\n",
       "       [-0.1 ,  0.17, -0.16, -0.35,  0.5 ,  0.22,  0.4 , -0.59],\n",
       "       [ 0.38,  0.31, -0.  , -0.07, -0.43, -0.19, -0.38, -0.62],\n",
       "       [-0.18,  0.18, -0.58,  0.45,  0.35,  0.13, -0.51, -0.03],\n",
       "       [ 0.18,  0.23, -0.64, -0.08, -0.16, -0.49,  0.43,  0.23],\n",
       "       [ 0.42, -0.13, -0.  , -0.55,  0.47, -0.21, -0.42,  0.26],\n",
       "       [-0.06,  0.14, -0.31, -0.47, -0.4 ,  0.66, -0.12,  0.24]])"
      ]
     },
     "execution_count": 53,
     "metadata": {},
     "output_type": "execute_result"
    }
   ],
   "source": [
    "np.round(Vh, 2)"
   ]
  },
  {
   "cell_type": "code",
   "execution_count": 54,
   "metadata": {},
   "outputs": [
    {
     "data": {
      "image/png": "[encoded data removed]",
      "text/plain": [
       "<matplotlib.figure.Figure at 0x7f64e33bd6d8>"
      ]
     },
     "metadata": {},
     "output_type": "display_data"
    }
   ],
   "source": [
    "import matplotlib.pyplot as plt\n",
    "plt.figure(figsize=(10, 8))\n",
    "for i in range(len(words)):\n",
    "    plt.text(U[i, 0], U[i, 1], words[i])"
   ]
  },
  {
   "cell_type": "code",
   "execution_count": null,
   "metadata": {},
   "outputs": [],
   "source": []
  }
 ],
 "metadata": {
  "kernelspec": {
   "display_name": "Python 3",
   "language": "python",
   "name": "python3"
  },
  "language_info": {
   "codemirror_mode": {
    "name": "ipython",
    "version": 3
   },
   "file_extension": ".py",
   "mimetype": "text/x-python",
   "name": "python",
   "nbconvert_exporter": "python",
   "pygments_lexer": "ipython3",
   "version": "3.6.4"
  }
 },
 "nbformat": 4,
 "nbformat_minor": 2
}
